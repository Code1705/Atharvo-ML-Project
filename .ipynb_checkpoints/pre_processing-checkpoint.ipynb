{
 "cells": [
  {
   "cell_type": "code",
   "execution_count": null,
   "id": "4c1daf53-be31-4c23-9a18-b968c7ce1efe",
   "metadata": {},
   "outputs": [],
   "source": [
    "## 1. Import Libraries\n",
    "import pandas as pd\n",
    "from sklearn.preprocessing import LabelEncoder"
   ]
  },
  {
   "cell_type": "code",
   "execution_count": null,
   "id": "5ae406b8-4bde-49e9-baea-82b666ebd8df",
   "metadata": {},
   "outputs": [],
   "source": [
    "# Load the dataset\n",
    "data = pd.read_csv('StudentPerformanceFactors.csv')"
   ]
  },
  {
   "cell_type": "code",
   "execution_count": null,
   "id": "77ed0474-d232-4b1c-b3c1-5786da5241c0",
   "metadata": {},
   "outputs": [],
   "source": [
    "## 2. Handle Missing Values\n",
    "# Example: Filling missing categorical values with the mode and numerical with the mean\n",
    "data['Teacher_Quality'] = data['Teacher_Quality'].fillna(data['Teacher_Quality'].mode()[0])\n",
    "data['Parental_Education_Level'] = data['Parental_Education_Level'].fillna(data['Parental_Education_Level'].mode()[0])\n",
    "data['Distance_from_Home'] = data['Distance_from_Home'].fillna(data['Distance_from_Home'].mode()[0])"
   ]
  },
  {
   "cell_type": "code",
   "execution_count": null,
   "id": "f0065ede-26b9-4c58-8340-4c2134494495",
   "metadata": {},
   "outputs": [],
   "source": [
    "## 3. Encode Categorical Variables\n",
    "label_encoder = LabelEncoder()\n",
    "for column in data.select_dtypes(include=['object']).columns:\n",
    "    data[column] = label_encoder.fit_transform(data[column])"
   ]
  },
  {
   "cell_type": "code",
   "execution_count": null,
   "id": "a8a7ad91-1bc7-4dcd-8c52-ad2fb03dd87e",
   "metadata": {},
   "outputs": [],
   "source": [
    "## 4. Save the preprocessed data for modeling\n",
    "data.to_csv('preprocessed_student_data.csv', index=False)"
   ]
  },
  {
   "cell_type": "code",
   "execution_count": null,
   "id": "d4aa70dd-8caf-4a17-97d0-2a8a916d30ab",
   "metadata": {},
   "outputs": [],
   "source": [
    "print(\"Data preprocessing complete.\")"
   ]
  }
 ],
 "metadata": {
  "kernelspec": {
   "display_name": "Python 3 (ipykernel)",
   "language": "python",
   "name": "python3"
  },
  "language_info": {
   "codemirror_mode": {
    "name": "ipython",
    "version": 3
   },
   "file_extension": ".py",
   "mimetype": "text/x-python",
   "name": "python",
   "nbconvert_exporter": "python",
   "pygments_lexer": "ipython3",
   "version": "3.12.6"
  }
 },
 "nbformat": 4,
 "nbformat_minor": 5
}
